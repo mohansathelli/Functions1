{
  "nbformat": 4,
  "nbformat_minor": 0,
  "metadata": {
    "colab": {
      "provenance": []
    },
    "kernelspec": {
      "name": "python3",
      "display_name": "Python 3"
    },
    "language_info": {
      "name": "python"
    }
  },
  "cells": [
    {
      "cell_type": "markdown",
      "source": [
        "# Who is prime minister of india\n",
        "\n",
        "\n",
        "1.  Narendra Modhi\n",
        "\n",
        "\n",
        "\n"
      ],
      "metadata": {
        "id": "crSpxVzrLjsv"
      }
    },
    {
      "cell_type": "code",
      "execution_count": null,
      "metadata": {
        "id": "3gGcu_rGKc_f"
      },
      "outputs": [],
      "source": []
    }
  ]
}